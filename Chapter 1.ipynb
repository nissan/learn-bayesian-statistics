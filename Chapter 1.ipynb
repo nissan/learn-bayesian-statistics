{
 "cells": [
  {
   "cell_type": "markdown",
   "id": "ede24fa9-466a-48f3-a307-3c2355f738f8",
   "metadata": {},
   "source": [
    "# My Notes and Experiments from Chapter 1 of book"
   ]
  },
  {
   "cell_type": "markdown",
   "id": "ad6aefe6-9286-47ad-bd22-bc5382a0acbd",
   "metadata": {},
   "source": [
    "> Some of the code thatis written may attribute some origin from \"Think Bayes, Second Edition\" by Allen B Downey (O'Reilly)"
   ]
  },
  {
   "cell_type": "code",
   "execution_count": 7,
   "id": "61d452af-4735-489b-a626-79af2859f098",
   "metadata": {},
   "outputs": [
    {
     "name": "stdout",
     "output_type": "stream",
     "text": [
      "  % Total    % Received % Xferd  Average Speed   Time    Time     Time  Current\n",
      "                                 Dload  Upload   Total   Spent    Left  Speed\n",
      "  0     0    0     0    0     0      0      0 --:--:-- --:--:-- --:--:--     0\n",
      "  0     0    0     0    0     0      0      0 --:--:-- --:--:-- --:--:--     0\n",
      "100   460  100   460    0     0   1220      0 --:--:-- --:--:-- --:--:--  1220\n"
     ]
    }
   ],
   "source": [
    "!curl -L -o environment.yml https://oreil.ly/AHjzl"
   ]
  },
  {
   "cell_type": "code",
   "execution_count": 10,
   "id": "d5e01555-919e-4188-8632-98f0d49d3018",
   "metadata": {},
   "outputs": [
    {
     "name": "stdout",
     "output_type": "stream",
     "text": [
      "name: ThinkBayes2\n",
      "channels:\n",
      "  - conda-forge\n",
      "  - fastai\n",
      "  - nodefaults\n",
      "dependencies:\n",
      "  - python>=3.6\n",
      "  - jupyter\n",
      "  - numpy\n",
      "  - matplotlib\n",
      "  - seaborn\n",
      "  - pandas\n",
      "  - statsmodels\n",
      "  - scipy\n",
      "  - pymc3\n",
      "  - arviz\n",
      "  - python-graphviz\n",
      "  - mkl-service\n",
      "  - lxml\n",
      "  - xlrd\n",
      "  - html5lib\n",
      "  - pytables\n",
      "  - nbconvert\n",
      "  - pandoc<2.3\n",
      "  - fastai::fastdoc\n",
      "  - pip\n",
      "  - jupyter_nbextensions_configurator\n",
      "  - pytest\n",
      "  - nbmake\n",
      "  - jupyter-book\n",
      "  - ghp-import\n",
      "  - empiricaldist>=0.6.7\n"
     ]
    }
   ],
   "source": [
    "!head -35 environment.yml"
   ]
  },
  {
   "cell_type": "markdown",
   "id": "4b8a000d-be94-4bb3-8b30-cfccf545e57d",
   "metadata": {},
   "source": [
    "I need to get these packages into my notebook environment, I can't assume I've created the conda environment, so I exit, run `conda env create -f environment.yml` and then `conda activate ThinkBayes2` and then re-open this notebook. Alternatively I'll try to run:"
   ]
  },
  {
   "cell_type": "code",
   "execution_count": 1,
   "id": "80a09983-a629-4b90-8f90-d8085abf5bc1",
   "metadata": {},
   "outputs": [
    {
     "name": "stdout",
     "output_type": "stream",
     "text": [
      "Collecting package metadata (current_repodata.json): done\n",
      "Solving environment: done\n",
      "\n",
      "# All requested packages already installed.\n",
      "\n"
     ]
    }
   ],
   "source": [
    "!conda install python jupyter pandas scipy matplotlib"
   ]
  },
  {
   "cell_type": "code",
   "execution_count": 2,
   "id": "42f59882-1fcd-499c-80c1-721786b79d71",
   "metadata": {},
   "outputs": [
    {
     "name": "stdout",
     "output_type": "stream",
     "text": [
      "Requirement already satisfied: empiricaldist in /Users/nissan/mambaforge/lib/python3.10/site-packages (0.6.8)\n"
     ]
    }
   ],
   "source": [
    "!pip install empiricaldist"
   ]
  },
  {
   "cell_type": "markdown",
   "id": "d19b9e2f-ba76-4473-adb0-0500b73bd2b0",
   "metadata": {},
   "source": [
    "## Probability"
   ]
  },
  {
   "cell_type": "code",
   "execution_count": 3,
   "id": "da390c04-c7e9-4841-b3b3-a0583fae4f0d",
   "metadata": {},
   "outputs": [
    {
     "name": "stdout",
     "output_type": "stream",
     "text": [
      "  % Total    % Received % Xferd  Average Speed   Time    Time     Time  Current\n",
      "                                 Dload  Upload   Total   Spent    Left  Speed\n",
      "  0     0    0     0    0     0      0      0 --:--:-- --:--:-- --:--:--     0\n",
      "100 1510k  100 1510k    0     0  1010k      0  0:00:01  0:00:01 --:--:-- 14.3M\n"
     ]
    }
   ],
   "source": [
    "!curl -L -o gss_bayes.csv https://github.com/AllenDowney/BiteSizeBayes/raw/master/gss_bayes.csv"
   ]
  },
  {
   "cell_type": "code",
   "execution_count": 4,
   "id": "467ed65c-6d10-465c-adee-9631fab68b28",
   "metadata": {},
   "outputs": [],
   "source": [
    "import pandas as pd"
   ]
  },
  {
   "cell_type": "code",
   "execution_count": 5,
   "id": "11977afc-2d6c-425a-8c67-3fa1bf3a8980",
   "metadata": {},
   "outputs": [
    {
     "data": {
      "text/html": [
       "<div>\n",
       "<style scoped>\n",
       "    .dataframe tbody tr th:only-of-type {\n",
       "        vertical-align: middle;\n",
       "    }\n",
       "\n",
       "    .dataframe tbody tr th {\n",
       "        vertical-align: top;\n",
       "    }\n",
       "\n",
       "    .dataframe thead th {\n",
       "        text-align: right;\n",
       "    }\n",
       "</style>\n",
       "<table border=\"1\" class=\"dataframe\">\n",
       "  <thead>\n",
       "    <tr style=\"text-align: right;\">\n",
       "      <th></th>\n",
       "      <th>year</th>\n",
       "      <th>age</th>\n",
       "      <th>sex</th>\n",
       "      <th>polviews</th>\n",
       "      <th>partyid</th>\n",
       "      <th>indus10</th>\n",
       "    </tr>\n",
       "    <tr>\n",
       "      <th>caseid</th>\n",
       "      <th></th>\n",
       "      <th></th>\n",
       "      <th></th>\n",
       "      <th></th>\n",
       "      <th></th>\n",
       "      <th></th>\n",
       "    </tr>\n",
       "  </thead>\n",
       "  <tbody>\n",
       "    <tr>\n",
       "      <th>1</th>\n",
       "      <td>1974</td>\n",
       "      <td>21.0</td>\n",
       "      <td>1</td>\n",
       "      <td>4.0</td>\n",
       "      <td>2.0</td>\n",
       "      <td>4970.0</td>\n",
       "    </tr>\n",
       "    <tr>\n",
       "      <th>2</th>\n",
       "      <td>1974</td>\n",
       "      <td>41.0</td>\n",
       "      <td>1</td>\n",
       "      <td>5.0</td>\n",
       "      <td>0.0</td>\n",
       "      <td>9160.0</td>\n",
       "    </tr>\n",
       "    <tr>\n",
       "      <th>5</th>\n",
       "      <td>1974</td>\n",
       "      <td>58.0</td>\n",
       "      <td>2</td>\n",
       "      <td>6.0</td>\n",
       "      <td>1.0</td>\n",
       "      <td>2670.0</td>\n",
       "    </tr>\n",
       "    <tr>\n",
       "      <th>6</th>\n",
       "      <td>1974</td>\n",
       "      <td>30.0</td>\n",
       "      <td>1</td>\n",
       "      <td>5.0</td>\n",
       "      <td>4.0</td>\n",
       "      <td>6870.0</td>\n",
       "    </tr>\n",
       "    <tr>\n",
       "      <th>7</th>\n",
       "      <td>1974</td>\n",
       "      <td>48.0</td>\n",
       "      <td>1</td>\n",
       "      <td>5.0</td>\n",
       "      <td>4.0</td>\n",
       "      <td>7860.0</td>\n",
       "    </tr>\n",
       "  </tbody>\n",
       "</table>\n",
       "</div>"
      ],
      "text/plain": [
       "        year   age  sex  polviews  partyid  indus10\n",
       "caseid                                             \n",
       "1       1974  21.0    1       4.0      2.0   4970.0\n",
       "2       1974  41.0    1       5.0      0.0   9160.0\n",
       "5       1974  58.0    2       6.0      1.0   2670.0\n",
       "6       1974  30.0    1       5.0      4.0   6870.0\n",
       "7       1974  48.0    1       5.0      4.0   7860.0"
      ]
     },
     "execution_count": 5,
     "metadata": {},
     "output_type": "execute_result"
    }
   ],
   "source": [
    "gss = pd.read_csv('gss_bayes.csv', index_col=0)\n",
    "gss.head()"
   ]
  },
  {
   "cell_type": "code",
   "execution_count": 6,
   "id": "132acfd0-1c89-4e81-8628-577cba78e62e",
   "metadata": {},
   "outputs": [
    {
     "data": {
      "text/plain": [
       "caseid\n",
       "1    False\n",
       "2    False\n",
       "5    False\n",
       "6     True\n",
       "7    False\n",
       "Name: indus10, dtype: bool"
      ]
     },
     "execution_count": 6,
     "metadata": {},
     "output_type": "execute_result"
    }
   ],
   "source": [
    "banker = (gss['indus10'] == 6870)\n",
    "banker.head()"
   ]
  },
  {
   "cell_type": "code",
   "execution_count": 7,
   "id": "06dcb18b-04aa-4475-899c-5ed88fd8af67",
   "metadata": {},
   "outputs": [
    {
     "data": {
      "text/plain": [
       "728"
      ]
     },
     "execution_count": 7,
     "metadata": {},
     "output_type": "execute_result"
    }
   ],
   "source": [
    "banker.sum()"
   ]
  },
  {
   "cell_type": "code",
   "execution_count": 8,
   "id": "d482e21a-dae2-412e-8496-e3b44e5e4a37",
   "metadata": {},
   "outputs": [
    {
     "data": {
      "text/plain": [
       "0.014769730168391155"
      ]
     },
     "execution_count": 8,
     "metadata": {},
     "output_type": "execute_result"
    }
   ],
   "source": [
    "banker.mean()"
   ]
  },
  {
   "cell_type": "code",
   "execution_count": null,
   "id": "de1ddc63-86da-404a-8517-bb61e698be64",
   "metadata": {},
   "outputs": [],
   "source": []
  }
 ],
 "metadata": {
  "kernelspec": {
   "display_name": "Python 3 (ipykernel)",
   "language": "python",
   "name": "python3"
  },
  "language_info": {
   "codemirror_mode": {
    "name": "ipython",
    "version": 3
   },
   "file_extension": ".py",
   "mimetype": "text/x-python",
   "name": "python",
   "nbconvert_exporter": "python",
   "pygments_lexer": "ipython3",
   "version": "3.10.9"
  }
 },
 "nbformat": 4,
 "nbformat_minor": 5
}
