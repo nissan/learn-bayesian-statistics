{
 "cells": [
  {
   "cell_type": "markdown",
   "id": "ede24fa9-466a-48f3-a307-3c2355f738f8",
   "metadata": {},
   "source": [
    "# My Notes and Experiments from Chapter 1 of book"
   ]
  },
  {
   "cell_type": "markdown",
   "id": "ad6aefe6-9286-47ad-bd22-bc5382a0acbd",
   "metadata": {},
   "source": [
    "> Some of the code thatis written may attribute some origin from \"Think Bayes, Second Edition\" by Allen B Downey (O'Reilly)"
   ]
  },
  {
   "cell_type": "code",
   "execution_count": 7,
   "id": "61d452af-4735-489b-a626-79af2859f098",
   "metadata": {},
   "outputs": [
    {
     "name": "stdout",
     "output_type": "stream",
     "text": [
      "  % Total    % Received % Xferd  Average Speed   Time    Time     Time  Current\n",
      "                                 Dload  Upload   Total   Spent    Left  Speed\n",
      "  0     0    0     0    0     0      0      0 --:--:-- --:--:-- --:--:--     0\n",
      "  0     0    0     0    0     0      0      0 --:--:-- --:--:-- --:--:--     0\n",
      "100   460  100   460    0     0   1220      0 --:--:-- --:--:-- --:--:--  1220\n"
     ]
    }
   ],
   "source": [
    "!curl -L -o environment.yml https://oreil.ly/AHjzl"
   ]
  },
  {
   "cell_type": "code",
   "execution_count": 10,
   "id": "d5e01555-919e-4188-8632-98f0d49d3018",
   "metadata": {},
   "outputs": [
    {
     "name": "stdout",
     "output_type": "stream",
     "text": [
      "name: ThinkBayes2\n",
      "channels:\n",
      "  - conda-forge\n",
      "  - fastai\n",
      "  - nodefaults\n",
      "dependencies:\n",
      "  - python>=3.6\n",
      "  - jupyter\n",
      "  - numpy\n",
      "  - matplotlib\n",
      "  - seaborn\n",
      "  - pandas\n",
      "  - statsmodels\n",
      "  - scipy\n",
      "  - pymc3\n",
      "  - arviz\n",
      "  - python-graphviz\n",
      "  - mkl-service\n",
      "  - lxml\n",
      "  - xlrd\n",
      "  - html5lib\n",
      "  - pytables\n",
      "  - nbconvert\n",
      "  - pandoc<2.3\n",
      "  - fastai::fastdoc\n",
      "  - pip\n",
      "  - jupyter_nbextensions_configurator\n",
      "  - pytest\n",
      "  - nbmake\n",
      "  - jupyter-book\n",
      "  - ghp-import\n",
      "  - empiricaldist>=0.6.7\n"
     ]
    }
   ],
   "source": [
    "!head -35 environment.yml"
   ]
  },
  {
   "cell_type": "markdown",
   "id": "4b8a000d-be94-4bb3-8b30-cfccf545e57d",
   "metadata": {},
   "source": [
    "I need to get these packages into my notebook environment, I can't assume I've created the conda environment, so I exit, run `conda env create -f environement.yml` and then `conda activate ThinkBayes2` and then re-open this notebook. Alternatively I'll try to run:"
   ]
  },
  {
   "cell_type": "code",
   "execution_count": 1,
   "id": "80a09983-a629-4b90-8f90-d8085abf5bc1",
   "metadata": {},
   "outputs": [
    {
     "name": "stdout",
     "output_type": "stream",
     "text": [
      "Collecting package metadata (current_repodata.json): done\n",
      "Solving environment: done\n",
      "\n",
      "# All requested packages already installed.\n",
      "\n"
     ]
    }
   ],
   "source": [
    "!conda install python jupyter pandas scipy matplotlib"
   ]
  },
  {
   "cell_type": "code",
   "execution_count": 2,
   "id": "42f59882-1fcd-499c-80c1-721786b79d71",
   "metadata": {},
   "outputs": [
    {
     "name": "stdout",
     "output_type": "stream",
     "text": [
      "Requirement already satisfied: empiricaldist in /Users/nissan/mambaforge/lib/python3.10/site-packages (0.6.8)\n"
     ]
    }
   ],
   "source": [
    "!pip install empiricaldist"
   ]
  },
  {
   "cell_type": "code",
   "execution_count": null,
   "id": "aca083b6-4196-4fc8-acfb-8b030cebf7fc",
   "metadata": {},
   "outputs": [],
   "source": []
  }
 ],
 "metadata": {
  "kernelspec": {
   "display_name": "Python 3 (ipykernel)",
   "language": "python",
   "name": "python3"
  },
  "language_info": {
   "codemirror_mode": {
    "name": "ipython",
    "version": 3
   },
   "file_extension": ".py",
   "mimetype": "text/x-python",
   "name": "python",
   "nbconvert_exporter": "python",
   "pygments_lexer": "ipython3",
   "version": "3.10.9"
  }
 },
 "nbformat": 4,
 "nbformat_minor": 5
}
